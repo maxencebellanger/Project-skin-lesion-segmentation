{
 "cells": [
  {
   "cell_type": "code",
   "execution_count": 2,
   "metadata": {},
   "outputs": [],
   "source": [
    "from sklearn.model_selection import train_test_split\n",
    "import numpy as np\n",
    "import h5py\n",
    "from sklearn import preprocessing\n",
    "from sklearn.model_selection import GridSearchCV\n",
    "from sklearn.tree import DecisionTreeClassifier\n",
    "from sklearn.ensemble import RandomForestClassifier\n",
    "from sklearn.svm import SVC\n",
    "from sklearn.metrics import confusion_matrix, classification_report, accuracy_score"
   ]
  },
  {
   "cell_type": "markdown",
   "metadata": {},
   "source": [
    "# Dataset importation"
   ]
  },
  {
   "cell_type": "code",
   "execution_count": 3,
   "metadata": {},
   "outputs": [
    {
     "name": "stdout",
     "output_type": "stream",
     "text": [
      "(array([0., 1.]), array([100, 100]))\n",
      "(array([0., 1.]), array([70, 70]))\n",
      "(array([0., 1.]), array([30, 30]))\n"
     ]
    }
   ],
   "source": [
    "dir_output = \"Output\"\n",
    "features_path = dir_output + \"/features.h5\"\n",
    "labels_path = dir_output + \"/labels.h5\"\n",
    "test_size = 0.3\n",
    "\n",
    "# import features and labels\n",
    "h5f_data = h5py.File(features_path, 'r')\n",
    "h5f_label = h5py.File(labels_path, 'r')\n",
    "\n",
    "features_string = h5f_data['dataset_skin_lesion']\n",
    "labels_string = h5f_label['dataset_skin_lesion']\n",
    "\n",
    "X = np.array(features_string)\n",
    "Y = np.array(labels_string)\n",
    "\n",
    "h5f_data.close()\n",
    "h5f_label.close()\n",
    "\n",
    "# SPLIT DATA INTO TRAINING AND TEST SETS\n",
    "(X_train, X_test, Y_train, Y_test) = train_test_split(X, Y,\n",
    "                                                      test_size=test_size,\n",
    "                                                      random_state=458773245,\n",
    "                                                      stratify=Y)\n",
    "\n",
    "print(np.unique(Y, return_counts=True))\n",
    "print(np.unique(Y_train, return_counts=True))\n",
    "print(np.unique(Y_test, return_counts=True))\n",
    "\n",
    "#STANDARDIZE DATA\n",
    "scaler = preprocessing.StandardScaler().fit(X_train)\n",
    "X_train = scaler.transform(X_train)\n",
    "X_test = scaler.transform(X_test)"
   ]
  },
  {
   "cell_type": "markdown",
   "metadata": {},
   "source": [
    "# SVM"
   ]
  },
  {
   "cell_type": "code",
   "execution_count": 30,
   "metadata": {},
   "outputs": [],
   "source": [
    "param_grid_svm = {\n",
    "    \"C\": np.linspace(3,7,50),\n",
    "    \"kernel\": ['linear', 'rbf', 'poly', 'sigmoid'],\n",
    "    \"gamma\": ['scale', 'auto'],\n",
    "}"
   ]
  },
  {
   "cell_type": "code",
   "execution_count": 31,
   "metadata": {},
   "outputs": [
    {
     "name": "stdout",
     "output_type": "stream",
     "text": [
      "{'C': np.float64(5.122448979591836), 'gamma': 'scale', 'kernel': 'rbf'}\n"
     ]
    }
   ],
   "source": [
    "svm = SVC()\n",
    "grid_svm = GridSearchCV(svm, param_grid_svm, cv=3, scoring=\"accuracy\")\n",
    "grid_svm.fit(X_train, Y_train)\n",
    "best_param = grid_svm.best_params_\n",
    "best_svm = grid_svm.best_estimator_\n",
    "y_pred_svm = best_svm.predict(X_test)\n",
    "\n",
    "print(best_param)"
   ]
  },
  {
   "cell_type": "markdown",
   "metadata": {},
   "source": [
    "## Evaluation"
   ]
  },
  {
   "cell_type": "code",
   "execution_count": 33,
   "metadata": {},
   "outputs": [
    {
     "name": "stdout",
     "output_type": "stream",
     "text": [
      "[[23  7]\n",
      " [ 6 24]]               precision    recall  f1-score   support\n",
      "\n",
      "         0.0       0.79      0.77      0.78        30\n",
      "         1.0       0.77      0.80      0.79        30\n",
      "\n",
      "    accuracy                           0.78        60\n",
      "   macro avg       0.78      0.78      0.78        60\n",
      "weighted avg       0.78      0.78      0.78        60\n",
      "\n",
      "0.7833333333333333\n"
     ]
    }
   ],
   "source": [
    "print(confusion_matrix(Y_test, y_pred_svm),\n",
    "      classification_report(Y_test, y_pred_svm))\n",
    "\n",
    "print(accuracy_score(Y_test, y_pred_svm))"
   ]
  },
  {
   "cell_type": "markdown",
   "metadata": {},
   "source": [
    "# Decision tree"
   ]
  },
  {
   "cell_type": "code",
   "execution_count": 7,
   "metadata": {},
   "outputs": [],
   "source": [
    "param_grid_tree = {\n",
    "    \"min_samples_split\": np.linspace(10, 50, 20).astype(int),\n",
    "    \"min_samples_leaf\": np.linspace(5, 10, 15).astype(int),\n",
    "    \"max_depth\": [None], #[None, 5, 10, 20],\n",
    "}"
   ]
  },
  {
   "cell_type": "code",
   "execution_count": 8,
   "metadata": {},
   "outputs": [
    {
     "name": "stdout",
     "output_type": "stream",
     "text": [
      "{'max_depth': None, 'min_samples_leaf': np.int64(7), 'min_samples_split': np.int64(12)}\n"
     ]
    }
   ],
   "source": [
    "tree = DecisionTreeClassifier()\n",
    "grid_tree = GridSearchCV(tree, param_grid_tree, cv=3, scoring=\"accuracy\")\n",
    "grid_tree.fit(X_train, Y_train)\n",
    "best_tree = grid_tree.best_estimator_\n",
    "best_param = grid_tree.best_params_\n",
    "y_pred_tree = best_tree.predict(X_test)\n",
    "print(best_param)"
   ]
  },
  {
   "cell_type": "markdown",
   "metadata": {},
   "source": [
    "## Evaluation"
   ]
  },
  {
   "cell_type": "code",
   "execution_count": null,
   "metadata": {},
   "outputs": [
    {
     "name": "stdout",
     "output_type": "stream",
     "text": [
      "[[11  4]\n",
      " [ 3 12]]               precision    recall  f1-score   support\n",
      "\n",
      "         0.0       0.79      0.73      0.76        15\n",
      "         1.0       0.75      0.80      0.77        15\n",
      "\n",
      "    accuracy                           0.77        30\n",
      "   macro avg       0.77      0.77      0.77        30\n",
      "weighted avg       0.77      0.77      0.77        30\n",
      "\n"
     ]
    }
   ],
   "source": [
    "print(confusion_matrix(Y_test, y_pred_tree),\n",
    "      classification_report(Y_test, y_pred_tree))\n",
    "\n",
    "print(accuracy_score(Y_test, y_pred_tree))"
   ]
  },
  {
   "cell_type": "markdown",
   "metadata": {},
   "source": [
    "# Random Forest"
   ]
  },
  {
   "cell_type": "code",
   "execution_count": 4,
   "metadata": {},
   "outputs": [],
   "source": [
    "param_grid_forest = {\n",
    "    \"n_estimators\": np.linspace(100,300,20).astype(int),\n",
    "    \"min_samples_split\": np.linspace(5, 15, 10).astype(int),\n",
    "    \"min_samples_leaf\": np.linspace(2, 15, 10).astype(int),\n",
    "    \"max_depth\": np.linspace(1, 10, 10).astype(int)\n",
    "}"
   ]
  },
  {
   "cell_type": "code",
   "execution_count": null,
   "metadata": {},
   "outputs": [],
   "source": [
    "forest = RandomForestClassifier()\n",
    "grid_forest = GridSearchCV(forest, param_grid_forest, cv=3, scoring=\"accuracy\")\n",
    "grid_forest.fit(X_train, Y_train)\n",
    "best_forest = grid_forest.best_estimator_\n",
    "best_param = grid_forest.best_params_\n",
    "y_pred_forest = best_forest.predict(X_test)\n",
    "print(best_param)"
   ]
  },
  {
   "cell_type": "markdown",
   "metadata": {},
   "source": [
    "## Evaluation"
   ]
  },
  {
   "cell_type": "code",
   "execution_count": 5,
   "metadata": {},
   "outputs": [
    {
     "name": "stdout",
     "output_type": "stream",
     "text": [
      "[[20 10]\n",
      " [ 6 24]]               precision    recall  f1-score   support\n",
      "\n",
      "         0.0       0.77      0.67      0.71        30\n",
      "         1.0       0.71      0.80      0.75        30\n",
      "\n",
      "    accuracy                           0.73        60\n",
      "   macro avg       0.74      0.73      0.73        60\n",
      "weighted avg       0.74      0.73      0.73        60\n",
      "\n",
      "0.7333333333333333\n"
     ]
    }
   ],
   "source": [
    "print(confusion_matrix(Y_test, y_pred_forest),\n",
    "      classification_report(Y_test, y_pred_forest))\n",
    "\n",
    "print(accuracy_score(Y_test, y_pred_forest))"
   ]
  }
 ],
 "metadata": {
  "kernelspec": {
   "display_name": "Project_Skin_lesion_segmentation",
   "language": "python",
   "name": "python3"
  },
  "language_info": {
   "codemirror_mode": {
    "name": "ipython",
    "version": 3
   },
   "file_extension": ".py",
   "mimetype": "text/x-python",
   "name": "python",
   "nbconvert_exporter": "python",
   "pygments_lexer": "ipython3",
   "version": "3.11.11"
  }
 },
 "nbformat": 4,
 "nbformat_minor": 2
}
